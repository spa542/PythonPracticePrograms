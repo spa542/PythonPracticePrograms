{
 "cells": [
  {
   "cell_type": "code",
   "execution_count": 100,
   "metadata": {},
   "outputs": [
    {
     "name": "stdout",
     "output_type": "stream",
     "text": [
      "(2, 1000)\n"
     ]
    }
   ],
   "source": [
    "from sklearn.decomposition import fastica # FastICA algorithm\n",
    "import numpy as np # Numpy Arrays\n",
    "import matplotlib.pyplot as plt # Used for plotting numpy arrays\n",
    "from numpy import linalg as la # Used for finding the eigen values and vectors of a numpy array\n",
    "import matplotlib.pyplot as plt # Used for graphing\n",
    "import math # Using math function\n",
    "\n",
    "N = 1000 # Amount of instances\n",
    "\n",
    "#S = np.random.laplace(loc=0.0, scale=1.0, size=(2,N)) # Matrix consisting of a laplace random distribution from [0,1)\n",
    "#S = np.random.logistic(loc=0.0, scale=1.0, size=(2,N)) # Matrix consisting of a logistic random distribution from [0,1)\n",
    "S = np.random.gumbel(loc=0.0, scale=1.0, size=(2,N)) # Matrix consisting of a gumbel random distribution from [0, 1)\n",
    "#S = np.random.uniform(low=-1.0, high=1.0, size=(2,N)) # Matrix consisting of a uniform random distribution from [0, 1)\n",
    "print(S.shape) # 2 by N matrix dimensions"
   ]
  },
  {
   "cell_type": "code",
   "execution_count": 101,
   "metadata": {},
   "outputs": [
    {
     "name": "stdout",
     "output_type": "stream",
     "text": [
      "[[ 0.01010709  2.97194151  0.91423994 ...  1.72909274  0.84455327\n",
      "   0.17531288]\n",
      " [ 0.30976624  0.85164482  0.64054557 ...  2.67324781 -0.95301443\n",
      "   1.51058066]]\n"
     ]
    },
    {
     "data": {
      "image/png": "[encoded data removed]",
      "text/plain": [
       "<Figure size 432x288 with 1 Axes>"
      ]
     },
     "metadata": {
      "needs_background": "light"
     },
     "output_type": "display_data"
    }
   ],
   "source": [
    "print(S)\n",
    "plt.scatter(S[0,:], S[1,:]) # Printing the graph for S\n",
    "plt.show()"
   ]
  },
  {
   "cell_type": "code",
   "execution_count": 102,
   "metadata": {},
   "outputs": [
    {
     "name": "stdout",
     "output_type": "stream",
     "text": [
      "(2, 2)\n"
     ]
    },
    {
     "data": {
      "image/png": "[encoded data removed]",
      "text/plain": [
       "<Figure size 432x288 with 1 Axes>"
      ]
     },
     "metadata": {
      "needs_background": "light"
     },
     "output_type": "display_data"
    }
   ],
   "source": [
    "A = np.random.normal(loc=0.0, scale=1.0, size=(2,2)) # Matrix consisting of a 2 by 2 Matrix, the mixing matrix\n",
    "print(A.shape) # 2 by 2 matrix dimensions\n",
    "plt.scatter(A[0,:], A[1,:]) # Printing the matrix A\n",
    "plt.show()"
   ]
  },
  {
   "cell_type": "code",
   "execution_count": 103,
   "metadata": {},
   "outputs": [
    {
     "name": "stdout",
     "output_type": "stream",
     "text": [
      "[[ 1.30877152 -0.58048706]\n",
      " [ 0.749361   -0.3929491 ]]\n"
     ]
    }
   ],
   "source": [
    "print(A)"
   ]
  },
  {
   "cell_type": "code",
   "execution_count": 104,
   "metadata": {},
   "outputs": [
    {
     "name": "stdout",
     "output_type": "stream",
     "text": [
      "(2, 1000)\n"
     ]
    }
   ],
   "source": [
    "X = np.matmul(A, S) # 2 by N matrix that we are given and need to solve for A\n",
    "print(X.shape) # 2 by N"
   ]
  },
  {
   "cell_type": "code",
   "execution_count": 105,
   "metadata": {},
   "outputs": [
    {
     "name": "stdout",
     "output_type": "stream",
     "text": [
      "[[-0.16658742  3.3952236   0.82470278 ...  0.71120156  1.65853981\n",
      "  -0.64742802]\n",
      " [-0.1141485   1.89240401  0.43339396 ...  0.24526435  1.00736145\n",
      "  -0.46220867]]\n"
     ]
    }
   ],
   "source": [
    "print(X)"
   ]
  },
  {
   "cell_type": "code",
   "execution_count": 106,
   "metadata": {},
   "outputs": [
    {
     "name": "stdout",
     "output_type": "stream",
     "text": [
      "[[-0.46220782  3.0996032   0.52908239 ...  0.41558116  1.36291941\n",
      "  -0.94304842]\n",
      " [-0.4097689   1.59678361  0.13777356 ... -0.05035605  0.71174105\n",
      "  -0.75782907]]\n"
     ]
    }
   ],
   "source": [
    "# First step: Subtract off the mean of the data in each dimension to make it a zero mean variable\n",
    "X = np.subtract(X, np.mean(X)) # Subtracting the mean from every value of X\n",
    "print(X)"
   ]
  },
  {
   "cell_type": "code",
   "execution_count": 107,
   "metadata": {},
   "outputs": [
    {
     "name": "stdout",
     "output_type": "stream",
     "text": [
      "(2, 2)\n",
      "[[3.27405393 1.91569113]\n",
      " [1.91569113 1.15253626]]\n"
     ]
    }
   ],
   "source": [
    "# Compute the Covariance of X \n",
    "covX = (1/N) * np.matmul(X, X.transpose())\n",
    "print(covX.shape) # 2 by 2 Covariance Matrix\n",
    "print(covX)"
   ]
  },
  {
   "cell_type": "code",
   "execution_count": 108,
   "metadata": {},
   "outputs": [
    {
     "name": "stdout",
     "output_type": "stream",
     "text": [
      "Eigen values are: [4.40306262 0.02352756]\n",
      "Eigen vectors are: [[ 0.861515   -0.50773212]\n",
      " [ 0.50773212  0.861515  ]]\n",
      "EigenVector1\n",
      "[[0.861515  ]\n",
      " [0.50773212]]\n",
      "EigenVector2\n",
      "[[-0.50773212]\n",
      " [ 0.861515  ]]\n",
      "This is the E matrix\n",
      "[[ 0.861515   -0.50773212]\n",
      " [ 0.50773212  0.861515  ]]\n",
      "This is the diagonal matrix of eigenvalues\n",
      "[[4.40306262 0.        ]\n",
      " [0.         0.02352756]]\n",
      "This is the inverse of the E matrix\n",
      "[[ 0.861515    0.50773212]\n",
      " [-0.50773212  0.861515  ]]\n",
      "This is the transpose of the E matrix\n",
      "[[ 0.861515    0.50773212]\n",
      " [-0.50773212  0.861515  ]]\n",
      "These matrices should be equal due to them being orthogonal\n"
     ]
    }
   ],
   "source": [
    "# Second step: Whiten the data by calculating the eigenvectors and eigenvalues of the covariance of the data\n",
    "eigvals, eigvecs = la.eig(covX) # Unpacking the tuple returned\n",
    "print(f'Eigen values are: {eigvals}')\n",
    "print(f'Eigen vectors are: {eigvecs}')\n",
    "eigVec1 = eigvecs[:,0].reshape(2,1)\n",
    "eigVec2 = eigvecs[:,1].reshape(2,1)\n",
    "print('EigenVector1')\n",
    "print(eigVec1)\n",
    "print('EigenVector2')\n",
    "print(eigVec2)\n",
    "E = np.concatenate((eigVec1, eigVec2), axis=1) # Creating the E matrix of corresponding eigen vectors\n",
    "print('This is the E matrix')\n",
    "print(E)\n",
    "Einv = la.inv(E) # Create the Inverse of the eigen vector matrix\n",
    "Etrans = E.transpose() # Create the Transpose matrix of the eigen vector matrix\n",
    "D = np.diag(eigvals) # Create the Diagonal matrix of eigen values\n",
    "print('This is the diagonal matrix of eigenvalues')\n",
    "print(D)\n",
    "print('This is the inverse of the E matrix')\n",
    "print(Einv)\n",
    "print('This is the transpose of the E matrix')\n",
    "print(Etrans)\n",
    "# Either Einv or Etrans can be used because they are equal\n",
    "print('These matrices should be equal due to them being orthogonal')"
   ]
  },
  {
   "cell_type": "code",
   "execution_count": 109,
   "metadata": {},
   "outputs": [
    {
     "name": "stdout",
     "output_type": "stream",
     "text": [
      "(2, 1000)\n",
      "[[-0.28891867  1.6589687   0.25056119 ...  0.15843992  0.73178977\n",
      "  -0.57055586]\n",
      " [-0.77154072 -1.29160299 -0.97751541 ... -1.65846149 -0.51387918\n",
      "  -1.13481039]]\n",
      "[[1.00000000e+00 1.73906028e-15]\n",
      " [1.76497272e-15 1.00000000e+00]]\n"
     ]
    }
   ],
   "source": [
    "# Continued... Applying the full calculation with all metadata calculated\n",
    "presWhite = np.matmul(np.sqrt(la.inv(D)), Etrans)\n",
    "Xwhite = np.matmul(presWhite, X)\n",
    "print(Xwhite.shape) # Dimensions of Xwhite\n",
    "print(Xwhite)\n",
    "print((1/N) * Xwhite @ Xwhite.T) # Should be the identity"
   ]
  },
  {
   "cell_type": "code",
   "execution_count": 110,
   "metadata": {},
   "outputs": [
    {
     "name": "stdout",
     "output_type": "stream",
     "text": [
      "[1. 1.]\n"
     ]
    }
   ],
   "source": [
    "# Function used to normalize the columns to unit length so they can be compared easily\n",
    "def normalize_cols(A):\n",
    "    norms = la.norm(A,axis=0)\n",
    "    return A / np.tile(norms,(2,1))\n",
    "\n",
    "normalize_cols(A)\n",
    "print(la.norm(normalize_cols(A),axis=0))"
   ]
  },
  {
   "cell_type": "code",
   "execution_count": 111,
   "metadata": {},
   "outputs": [
    {
     "name": "stdout",
     "output_type": "stream",
     "text": [
      "W matrix\n",
      "(2, 2)\n",
      "[[ 0.25974446  0.96567739]\n",
      " [ 0.96567739 -0.25974446]]\n",
      "Should be close to A\n",
      "[[0.69820559 0.87132956]\n",
      " [0.7158973  0.49069827]]\n",
      "[[ 0.86781678 -0.82810682]\n",
      " [ 0.49688433 -0.56057034]]\n"
     ]
    }
   ],
   "source": [
    "# Third step: Identify final rotation matrix that optimizes statistical independence\n",
    "_, W, Sest = fastica(Xwhite.T, fun='cube', whiten=False)\n",
    "print('W matrix')\n",
    "print(W.shape)\n",
    "print(W)\n",
    "print('Should be close to A')\n",
    "print(normalize_cols(la.inv(W @ presWhite)))\n",
    "print(normalize_cols(A))\n",
    "# Recall that X = AS; ica computes K and W (whitening and de-rotating, resp.) so that \n",
    "# S = W K X => Winv S = K X => Kinv Winv S = X = AS => Kinv Winv = A => (W K)inv = A"
   ]
  },
  {
   "cell_type": "code",
   "execution_count": 112,
   "metadata": {},
   "outputs": [
    {
     "name": "stdout",
     "output_type": "stream",
     "text": [
      "W2 matrix\n",
      "(2, 2)\n",
      "[[-0.91487344 -0.40374076]\n",
      " [-0.40374076  0.91487344]]\n",
      "Should be close to A\n",
      "[[0.86738357 0.82559653]\n",
      " [0.49764017 0.56426091]]\n",
      "[[ 0.86781678 -0.82810682]\n",
      " [ 0.49688433 -0.56057034]]\n"
     ]
    }
   ],
   "source": [
    "# Short test without the whitening matrix pre-calculated\n",
    "K2, W2, Sest2 = fastica(X.T, fun='cube')\n",
    "print('W2 matrix')\n",
    "print(W2.shape)\n",
    "print(W2)\n",
    "print('Should be close to A')\n",
    "print(normalize_cols(la.inv(W2 @ K2)))\n",
    "print(normalize_cols(A))"
   ]
  },
  {
   "cell_type": "code",
   "execution_count": 113,
   "metadata": {},
   "outputs": [
    {
     "data": {
      "image/png": "[encoded data removed]",
      "text/plain": [
       "<Figure size 432x288 with 1 Axes>"
      ]
     },
     "metadata": {
      "needs_background": "light"
     },
     "output_type": "display_data"
    }
   ],
   "source": [
    "# Printing out the comparison between A and W * Wpres\n",
    "graphW = normalize_cols(la.inv(W @ presWhite))\n",
    "graphA = normalize_cols(la.inv(A))\n",
    "\n",
    "plt.scatter(graphW[0,:], graphW[1,:])\n",
    "plt.scatter(graphA[0,:], graphA[1,:])\n",
    "plt.show()"
   ]
  },
  {
   "cell_type": "code",
   "execution_count": 114,
   "metadata": {},
   "outputs": [
    {
     "data": {
      "image/png": "[encoded data removed]",
      "text/plain": [
       "<Figure size 432x288 with 1 Axes>"
      ]
     },
     "metadata": {
      "needs_background": "light"
     },
     "output_type": "display_data"
    }
   ],
   "source": [
    "# Printing out the comparison between S and Sest without normalization\n",
    "graphSest1 = Sest.T\n",
    "graphS1 = S\n",
    "\n",
    "plt.scatter(graphSest1[0,:], graphSest1[1,:])\n",
    "plt.scatter(graphS1[0,:], graphS1[1,:])\n",
    "plt.show()"
   ]
  },
  {
   "cell_type": "code",
   "execution_count": 115,
   "metadata": {},
   "outputs": [
    {
     "data": {
      "image/png": "[encoded data removed]",
      "text/plain": [
       "<Figure size 432x288 with 1 Axes>"
      ]
     },
     "metadata": {
      "needs_background": "light"
     },
     "output_type": "display_data"
    }
   ],
   "source": [
    "# Printing out the comparison between S and Sest normalized\n",
    "graphSest = normalize_cols(Sest.T)\n",
    "graphS = normalize_cols(S)\n",
    "\n",
    "plt.scatter(graphSest[0,:], graphSest[1,:])\n",
    "plt.scatter(graphS[0,:], graphS[1,:])\n",
    "plt.show()"
   ]
  },
  {
   "cell_type": "code",
   "execution_count": 116,
   "metadata": {},
   "outputs": [
    {
     "name": "stdout",
     "output_type": "stream",
     "text": [
      "48.95201240386955\n"
     ]
    }
   ],
   "source": [
    "# Measuring the distance between two matrices A and W*Wpres as well as S and Sest using Frobenius norms\n",
    "\n",
    "# calc_difference function using the frobenius distance\n",
    "def calc_difference(A, B):\n",
    "    first = np.subtract(A, B)\n",
    "    second = np.subtract(A, B).conj().T\n",
    "    inner = np.dot(first, second)\n",
    "    trace = inner.trace()\n",
    "    return math.sqrt(trace)\n",
    "\n",
    "# Calculating the error difference between S and Sest\n",
    "error_S = calc_difference(graphS, graphSest)\n",
    "print(error_S)"
   ]
  },
  {
   "cell_type": "code",
   "execution_count": 117,
   "metadata": {},
   "outputs": [
    {
     "name": "stdout",
     "output_type": "stream",
     "text": [
      "1.9201918703503942\n"
     ]
    }
   ],
   "source": [
    "# Calculating the error difference between A and W*Wpres\n",
    "error_A = calc_difference(graphA, graphW)\n",
    "print(error_A)"
   ]
  },
  {
   "cell_type": "code",
   "execution_count": 118,
   "metadata": {},
   "outputs": [],
   "source": [
    "# For a Laplace distribution, the error calculation for the A matrix is lower than with a uniform random distribution\n",
    "# For a logistic distribution, the error calculation was even less for the A matrix than the laplace distribution, and the S error value was slightly higher\n",
    "# For a gumbel distribution, the error calculation was the highest amonng both the A and S matrix and was fairly inaccurate\n",
    "# All of these observations were made based off of the general results from the uniform random distribution"
   ]
  },
  {
   "cell_type": "code",
   "execution_count": null,
   "metadata": {},
   "outputs": [],
   "source": []
  }
 ],
 "metadata": {
  "kernelspec": {
   "display_name": "Python 3",
   "language": "python",
   "name": "python3"
  },
  "language_info": {
   "codemirror_mode": {
    "name": "ipython",
    "version": 3
   },
   "file_extension": ".py",
   "mimetype": "text/x-python",
   "name": "python",
   "nbconvert_exporter": "python",
   "pygments_lexer": "ipython3",
   "version": "3.7.6"
  }
 },
 "nbformat": 4,
 "nbformat_minor": 4
}
