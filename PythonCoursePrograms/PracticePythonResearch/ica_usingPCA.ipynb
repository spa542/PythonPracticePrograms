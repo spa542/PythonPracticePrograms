{
 "cells": [
  {
   "cell_type": "code",
   "execution_count": 10,
   "metadata": {},
   "outputs": [
    {
     "name": "stdout",
     "output_type": "stream",
     "text": [
      "(2, 10000)\n"
     ]
    }
   ],
   "source": [
    "from sklearn.decomposition import fastica # FastICA algorithm\n",
    "import numpy as np # Numpy Arrays\n",
    "import matplotlib.pyplot as plt # Used for plotting numpy arrays\n",
    "from numpy import linalg as la # Used for finding the eigen values and vectors of a numpy array\n",
    "import matplotlib.pyplot as plt # Used for graphing\n",
    "import math # Using math function\n",
    "from itertools import permutations # For finding permutations of a matrix\n",
    "\n",
    "N = 10000 # Amount of instances\n",
    "\n",
    "#S = np.random.laplace(loc=0.0, scale=1.0, size=(2,N)) # Matrix consisting of a laplace random distribution from [0,1)\n",
    "#S = np.random.logistic(loc=0.0, scale=1.0, size=(2,N)) # Matrix consisting of a logistic random distribution from [0,1)\n",
    "#S = np.random.gumbel(loc=0.0, scale=1.0, size=(2,N)) # Matrix consisting of a gumbel random distribution from [0, 1)\n",
    "S = np.random.uniform(low=-1.0, high=1.0, size=(2,N)) # Matrix consisting of a uniform random distribution from [0, 1)\n",
    "print(S.shape) # 2 by N matrix dimensions"
   ]
  },
  {
   "cell_type": "code",
   "execution_count": 11,
   "metadata": {},
   "outputs": [
    {
     "name": "stdout",
     "output_type": "stream",
     "text": [
      "[[ 0.27035174  0.61089151  0.44470766 ...  0.71999206 -0.87395069\n",
      "  -0.95876481]\n",
      " [-0.54205901 -0.01220828 -0.06974549 ...  0.03011761  0.65804999\n",
      "  -0.85772985]]\n"
     ]
    },
    {
     "data": {
      "image/png": "[encoded data removed]",
      "text/plain": [
       "<Figure size 432x288 with 1 Axes>"
      ]
     },
     "metadata": {
      "needs_background": "light"
     },
     "output_type": "display_data"
    }
   ],
   "source": [
    "# Function used to normalize the columns to unit length so they can be compared easily\n",
    "def normalize_cols(A):\n",
    "    norms = la.norm(A,axis=0)\n",
    "    return A / np.tile(norms,(2,1))\n",
    "\n",
    "print(S)\n",
    "plt.scatter(S[0,:], S[1,:]) # Printing the graph for S\n",
    "plt.show()"
   ]
  },
  {
   "cell_type": "code",
   "execution_count": 12,
   "metadata": {},
   "outputs": [
    {
     "name": "stdout",
     "output_type": "stream",
     "text": [
      "(2, 2)\n"
     ]
    },
    {
     "data": {
      "image/png": "[encoded data removed]",
      "text/plain": [
       "<Figure size 432x288 with 1 Axes>"
      ]
     },
     "metadata": {
      "needs_background": "light"
     },
     "output_type": "display_data"
    }
   ],
   "source": [
    "A = normalize_cols(np.random.normal(loc=0.0, scale=1.0, size=(2,2))) # Matrix consisting of a 2 by 2 Matrix, the mixing matrix\n",
    "print(A.shape) # 2 by 2 matrix dimensions\n",
    "plt.scatter(A[0,:], A[1,:]) # Printing the matrix A\n",
    "plt.show()"
   ]
  },
  {
   "cell_type": "code",
   "execution_count": 13,
   "metadata": {},
   "outputs": [
    {
     "name": "stdout",
     "output_type": "stream",
     "text": [
      "[[ 0.99713019 -0.39736676]\n",
      " [ 0.07570588  0.91765988]]\n"
     ]
    }
   ],
   "source": [
    "print(A)"
   ]
  },
  {
   "cell_type": "code",
   "execution_count": 14,
   "metadata": {},
   "outputs": [
    {
     "name": "stdout",
     "output_type": "stream",
     "text": [
      "(2, 10000)\n"
     ]
    }
   ],
   "source": [
    "X = np.matmul(normalize_cols(A), S) # 2 by N matrix that we are given and need to solve for A\n",
    "print(X.shape) # 2 by N"
   ]
  },
  {
   "cell_type": "code",
   "execution_count": 15,
   "metadata": {},
   "outputs": [
    {
     "name": "stdout",
     "output_type": "stream",
     "text": [
      "[[ 0.48497212  0.61398954  0.47114598 ...  0.70595808 -1.13292981\n",
      "  -0.61518   ]\n",
      " [-0.47695859  0.03504503 -0.03033565 ...  0.08214535  0.53770287\n",
      "  -0.85968841]]\n"
     ]
    }
   ],
   "source": [
    "print(X)"
   ]
  },
  {
   "cell_type": "code",
   "execution_count": 16,
   "metadata": {},
   "outputs": [
    {
     "name": "stdout",
     "output_type": "stream",
     "text": [
      "[[ 0.49002846  0.61904589  0.47620232 ...  0.71101443 -1.12787347\n",
      "  -0.61012365]\n",
      " [-0.47190224  0.04010138 -0.0252793  ...  0.0872017   0.54275922\n",
      "  -0.85463206]]\n"
     ]
    },
    {
     "data": {
      "image/png": "[encoded data removed]",
      "text/plain": [
       "<Figure size 432x288 with 1 Axes>"
      ]
     },
     "metadata": {
      "needs_background": "light"
     },
     "output_type": "display_data"
    }
   ],
   "source": [
    "# First step: Subtract off the mean of the data in each dimension to make it a zero mean variable\n",
    "X = np.subtract(X, np.mean(X)) # Subtracting the mean from every value of X\n",
    "print(X)\n",
    "plt.scatter(X[0,:], X[1,:])\n",
    "plt.scatter(A[:,0], A[:,1])\n",
    "plt.show()"
   ]
  },
  {
   "cell_type": "code",
   "execution_count": 17,
   "metadata": {},
   "outputs": [
    {
     "name": "stdout",
     "output_type": "stream",
     "text": [
      "(2, 2)\n",
      "[[ 0.38264402 -0.09577151]\n",
      " [-0.09577151  0.28016201]]\n"
     ]
    }
   ],
   "source": [
    "# Compute the Covariance of X \n",
    "covX = (1/N) * np.matmul(X, X.transpose())\n",
    "print(covX.shape) # 2 by 2 Covariance Matrix\n",
    "print(covX)"
   ]
  },
  {
   "cell_type": "code",
   "execution_count": 18,
   "metadata": {},
   "outputs": [
    {
     "name": "stdout",
     "output_type": "stream",
     "text": [
      "Eigen values are: [0.44002079 0.22278523]\n",
      "Eigen vectors are: [[ 0.85783309  0.5139284 ]\n",
      " [-0.5139284   0.85783309]]\n",
      "EigenVector1\n",
      "[[ 0.85783309]\n",
      " [-0.5139284 ]]\n",
      "EigenVector2\n",
      "[[0.5139284 ]\n",
      " [0.85783309]]\n",
      "This is the E matrix\n",
      "[[ 0.85783309  0.5139284 ]\n",
      " [-0.5139284   0.85783309]]\n",
      "This is the diagonal matrix of eigenvalues\n",
      "[[0.44002079 0.        ]\n",
      " [0.         0.22278523]]\n",
      "This is the inverse of the E matrix\n",
      "[[ 0.85783309 -0.5139284 ]\n",
      " [ 0.5139284   0.85783309]]\n",
      "This is the transpose of the E matrix\n",
      "[[ 0.85783309 -0.5139284 ]\n",
      " [ 0.5139284   0.85783309]]\n",
      "These matrices should be equal due to them being orthogonal\n"
     ]
    }
   ],
   "source": [
    "# Second step: Whiten the data by calculating the eigenvectors and eigenvalues of the covariance of the data\n",
    "eigvals, eigvecs = la.eig(covX) # Unpacking the tuple returned\n",
    "print(f'Eigen values are: {eigvals}')\n",
    "print(f'Eigen vectors are: {eigvecs}')\n",
    "eigVec1 = eigvecs[:,0].reshape(2,1)\n",
    "eigVec2 = eigvecs[:,1].reshape(2,1)\n",
    "print('EigenVector1')\n",
    "print(eigVec1)\n",
    "print('EigenVector2')\n",
    "print(eigVec2)\n",
    "E = np.concatenate((eigVec1, eigVec2), axis=1) # Creating the E matrix of corresponding eigen vectors\n",
    "print('This is the E matrix')\n",
    "print(E)\n",
    "Einv = la.inv(E) # Create the Inverse of the eigen vector matrix\n",
    "Etrans = E.transpose() # Create the Transpose matrix of the eigen vector matrix\n",
    "D = np.diag(eigvals) # Create the Diagonal matrix of eigen values\n",
    "print('This is the diagonal matrix of eigenvalues')\n",
    "print(D)\n",
    "print('This is the inverse of the E matrix')\n",
    "print(Einv)\n",
    "print('This is the transpose of the E matrix')\n",
    "print(Etrans)\n",
    "# Either Einv or Etrans can be used because they are equal\n",
    "print('These matrices should be equal due to them being orthogonal')"
   ]
  },
  {
   "cell_type": "code",
   "execution_count": 19,
   "metadata": {},
   "outputs": [
    {
     "name": "stdout",
     "output_type": "stream",
     "text": [
      "(2, 10000)\n",
      "[[ 0.99931552  0.7694822   0.63541089 ...  0.85192471 -1.87907463\n",
      "  -0.12687987]\n",
      " [-0.32409617  0.74691647  0.47255902 ...  0.93265634 -0.24162938\n",
      "  -2.21756067]]\n",
      "[[1.00000000e+00 5.85469173e-17]\n",
      " [6.02816408e-17 1.00000000e+00]]\n"
     ]
    }
   ],
   "source": [
    "# Continued... Applying the full calculation with all metadata calculated\n",
    "presWhite = np.matmul(np.sqrt(la.inv(D)), Etrans)\n",
    "Xwhite = np.matmul(presWhite, X)\n",
    "print(Xwhite.shape) # Dimensions of Xwhite\n",
    "print(Xwhite)\n",
    "print((1/N) * Xwhite @ Xwhite.T) # Should be the identity"
   ]
  },
  {
   "cell_type": "code",
   "execution_count": 20,
   "metadata": {},
   "outputs": [
    {
     "name": "stdout",
     "output_type": "stream",
     "text": [
      "[1. 1.]\n"
     ]
    }
   ],
   "source": [
    "normalize_cols(A)\n",
    "print(la.norm(normalize_cols(A),axis=0))"
   ]
  },
  {
   "cell_type": "code",
   "execution_count": 21,
   "metadata": {},
   "outputs": [
    {
     "name": "stdout",
     "output_type": "stream",
     "text": [
      "W matrix\n",
      "(2, 2)\n",
      "[[-0.71056738 -0.70362916]\n",
      " [ 0.70362916 -0.71056738]]\n",
      "Should be close to A\n",
      "[[-0.99725946  0.39673652]\n",
      " [-0.07398364 -0.91793253]]\n",
      "[[ 0.99713019 -0.39736676]\n",
      " [ 0.07570588  0.91765988]]\n"
     ]
    }
   ],
   "source": [
    "# Third step: Identify final rotation matrix that optimizes statistical independence\n",
    "_, W, Sest = fastica(Xwhite.T, fun='cube', whiten=False)\n",
    "print('W matrix')\n",
    "print(W.shape)\n",
    "print(W)\n",
    "print('Should be close to A')\n",
    "print(normalize_cols(la.inv(W @ presWhite)))\n",
    "print(normalize_cols(A))\n",
    "# Recall that X = AS; ica computes K and W (whitening and de-rotating, resp.) so that \n",
    "# S = W K X => Winv S = K X => Kinv Winv S = X = AS => Kinv Winv = A => (W K)inv = A"
   ]
  },
  {
   "cell_type": "code",
   "execution_count": 22,
   "metadata": {},
   "outputs": [
    {
     "name": "stdout",
     "output_type": "stream",
     "text": [
      "W2 matrix\n",
      "(2, 2)\n",
      "[[-0.99982592 -0.01865834]\n",
      " [-0.01865834  0.99982592]]\n",
      "Should be close to A\n",
      "[[ 0.85093486  0.53624025]\n",
      " [-0.52527123  0.8440654 ]]\n",
      "[[ 0.99713019 -0.39736676]\n",
      " [ 0.07570588  0.91765988]]\n"
     ]
    }
   ],
   "source": [
    "# Short test without the whitening matrix pre-calculated\n",
    "K2, W2, Sest2 = fastica(X.T, fun='cube')\n",
    "print('W2 matrix')\n",
    "print(W2.shape)\n",
    "print(W2)\n",
    "print('Should be close to A')\n",
    "print(normalize_cols(la.inv(W2 @ K2)))\n",
    "print(normalize_cols(A))"
   ]
  },
  {
   "cell_type": "code",
   "execution_count": 23,
   "metadata": {},
   "outputs": [
    {
     "name": "stdout",
     "output_type": "stream",
     "text": [
      "[[ 0.99713019 -0.39736676]\n",
      " [ 0.07570588  0.91765988]]\n",
      "[[-0.99725946  0.39673652]\n",
      " [-0.07398364 -0.91793253]]\n"
     ]
    },
    {
     "data": {
      "image/png": "[encoded data removed]",
      "text/plain": [
       "<Figure size 432x288 with 1 Axes>"
      ]
     },
     "metadata": {
      "needs_background": "light"
     },
     "output_type": "display_data"
    }
   ],
   "source": [
    "# Printing out the comparison between A and W * Wpres\n",
    "graphW = normalize_cols(la.inv(W @ presWhite))\n",
    "graphA = normalize_cols(A)\n",
    "\n",
    "print(graphA)\n",
    "print(graphW)\n",
    "\n",
    "plt.scatter(graphW[0,:], graphW[1,:])\n",
    "plt.scatter(graphA[0,:], graphA[1,:])\n",
    "plt.show()"
   ]
  },
  {
   "cell_type": "code",
   "execution_count": 24,
   "metadata": {},
   "outputs": [
    {
     "data": {
      "image/png": "[encoded data removed]",
      "text/plain": [
       "<Figure size 432x288 with 1 Axes>"
      ]
     },
     "metadata": {
      "needs_background": "light"
     },
     "output_type": "display_data"
    }
   ],
   "source": [
    "# Printing out the comparison between S and Sest without normalization\n",
    "graphSest1 = Sest.T\n",
    "graphS1 = S\n",
    "\n",
    "plt.scatter(graphSest1[0,:], graphSest1[1,:])\n",
    "plt.scatter(graphS1[0,:], graphS1[1,:])\n",
    "plt.show()"
   ]
  },
  {
   "cell_type": "code",
   "execution_count": 25,
   "metadata": {},
   "outputs": [
    {
     "data": {
      "image/png": "[encoded data removed]",
      "text/plain": [
       "<Figure size 432x288 with 1 Axes>"
      ]
     },
     "metadata": {
      "needs_background": "light"
     },
     "output_type": "display_data"
    }
   ],
   "source": [
    "# Printing out the comparison between S and Sest normalized\n",
    "graphSest = normalize_cols(Sest.T)\n",
    "graphS = normalize_cols(S)\n",
    "\n",
    "plt.scatter(graphSest[0,:], graphSest[1,:])\n",
    "plt.scatter(graphS[0,:], graphS[1,:])\n",
    "plt.show()"
   ]
  },
  {
   "cell_type": "code",
   "execution_count": 26,
   "metadata": {},
   "outputs": [
    {
     "name": "stdout",
     "output_type": "stream",
     "text": [
      "199.9940617360272\n"
     ]
    }
   ],
   "source": [
    "# Measuring the distance between two matrices A and W*Wpres as well as S and Sest using Frobenius norms\n",
    "\n",
    "# calc_difference function using the frobenius distance\n",
    "def calc_difference(A, B):\n",
    "    first = np.subtract(A, B)\n",
    "    second = np.subtract(A, B).conj().T\n",
    "    inner = np.dot(first, second) # first @ second\n",
    "    trace = inner.trace()\n",
    "    return math.sqrt(trace)\n",
    "\n",
    "# Calculating the error difference between S and Sest\n",
    "error_S = calc_difference(graphS, graphSest)\n",
    "print(error_S) # This doesnt mean anything"
   ]
  },
  {
   "cell_type": "code",
   "execution_count": 27,
   "metadata": {},
   "outputs": [
    {
     "name": "stdout",
     "output_type": "stream",
     "text": [
      "2.8284265140973406\n"
     ]
    }
   ],
   "source": [
    "# Calculating the error difference between A and W*Wpres\n",
    "# Problem: need to fix graphW by permuting and negating columns\n",
    "# i.e. choose permutation/negation matrix P that minimizes calc_difference(graphA, graphW@P)\n",
    "# note: there are n! of them, and 2^n ways to negate\n",
    "# example P is [[0,-1], [1,0]] which swaps the two columns and negate the second one\n",
    "error_A = calc_difference(graphA, graphW)\n",
    "print(error_A)"
   ]
  },
  {
   "cell_type": "code",
   "execution_count": 28,
   "metadata": {},
   "outputs": [],
   "source": [
    "# For a Laplace distribution, the error calculation for the A matrix is lower than with a uniform random distribution\n",
    "# For a logistic distribution, the error calculation was even less for the A matrix than the laplace distribution, and the S error value was slightly higher\n",
    "# For a gumbel distribution, the error calculation was the highest amonng both the A and S matrix and was fairly inaccurate\n",
    "# All of these observations were made based off of the general results from the uniform random distribution"
   ]
  },
  {
   "cell_type": "code",
   "execution_count": 29,
   "metadata": {},
   "outputs": [
    {
     "name": "stdout",
     "output_type": "stream",
     "text": [
      "[[ 0.99713019 -0.39736676]\n",
      " [ 0.07570588  0.91765988]]\n",
      "[[-0.99725946  0.39673652]\n",
      " [-0.07398364 -0.91793253]]\n",
      "[[ 0.99713019 -0.39736676]\n",
      " [ 0.07570588  0.91765988]]\n",
      "[[-0.99725946 -0.39673652]\n",
      " [-0.07398364  0.91793253]]\n",
      "[[ 0.99713019 -0.39736676]\n",
      " [ 0.07570588  0.91765988]]\n",
      "[[ 0.99725946 -0.39673652]\n",
      " [ 0.07398364  0.91793253]]\n",
      "0.0018585884877491514\n"
     ]
    }
   ],
   "source": [
    "# Creating a function to reduce the error between the estimated matrix and the original matrix \n",
    "def reduce_error(original, fix):\n",
    "    min_fix = np.arange(1)\n",
    "    identity = np.eye(len(original[:,0]))\n",
    "    permList = list(permutations(identity))\n",
    "    minimum_error = 100000\n",
    "    for item in permList:\n",
    "        matrix = np.array(item)\n",
    "        orig_mat = matrix\n",
    "        for num in range(2**len(original[:,0])):\n",
    "            matrix = np.copy(orig_mat)\n",
    "            bi = \"{:02b}\".format(num) # Is a string that needs to be parsed\n",
    "            if (bi[0] == '1'):\n",
    "                matrix[:,0] *= -1\n",
    "            if (bi[1] == '1'):\n",
    "                matrix[:,1] *= -1\n",
    "            \n",
    "            matrix[matrix == -0] = 0 # Fix -0\n",
    "            \n",
    "            check = fix @ matrix\n",
    "            difference = calc_difference(original, check)\n",
    "            if (difference < minimum_error):\n",
    "                print(original)\n",
    "                print(check)\n",
    "                minimum_error = difference\n",
    "                min_fix = np.copy(matrix @ fix)\n",
    "    \n",
    "    return (minimum_error, min_fix)\n",
    "    \n",
    "final_error, min_fix = reduce_error(graphA, graphW)\n",
    "print(final_error)"
   ]
  },
  {
   "cell_type": "code",
   "execution_count": 30,
   "metadata": {},
   "outputs": [
    {
     "data": {
      "image/png": "[encoded data removed]",
      "text/plain": [
       "<Figure size 432x288 with 1 Axes>"
      ]
     },
     "metadata": {
      "needs_background": "light"
     },
     "output_type": "display_data"
    }
   ],
   "source": [
    "plt.plot(X[0,:], X[1,:], \"rx\", markersize=.3)\n",
    "plt.scatter(graphA[:,0], graphA[:,1])\n",
    "plt.scatter(min_fix[:,0], min_fix[:,1])\n",
    "plt.show()"
   ]
  },
  {
   "cell_type": "code",
   "execution_count": null,
   "metadata": {},
   "outputs": [],
   "source": []
  }
 ],
 "metadata": {
  "kernelspec": {
   "display_name": "Python 3",
   "language": "python",
   "name": "python3"
  },
  "language_info": {
   "codemirror_mode": {
    "name": "ipython",
    "version": 3
   },
   "file_extension": ".py",
   "mimetype": "text/x-python",
   "name": "python",
   "nbconvert_exporter": "python",
   "pygments_lexer": "ipython3",
   "version": "3.7.6"
  }
 },
 "nbformat": 4,
 "nbformat_minor": 4
}
