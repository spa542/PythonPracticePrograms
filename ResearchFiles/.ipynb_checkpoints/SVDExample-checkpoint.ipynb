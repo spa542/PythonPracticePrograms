{
 "cells": [
  {
   "cell_type": "code",
   "execution_count": 1,
   "metadata": {},
   "outputs": [
    {
     "name": "stdout",
     "output_type": "stream",
     "text": [
      "[[-0.61215255 -0.05228813]\n",
      " [-0.34162337 -0.2025832 ]\n",
      " [ 0.31300005  0.80704816]\n",
      " [ 0.64077586 -0.55217683]]\n"
     ]
    }
   ],
   "source": [
    "# Example of SVD and demonstrations using numpy and scipy libraries\n",
    "import scipy as sp\n",
    "import numpy as np\n",
    "from scipy import linalg as la\n",
    "\n",
    "A = np.array([[4.0,3.0], [2.0,2.0], [-1.0,-3.0], [-5.0,-2.0]])\n",
    "U, S, Vt = la.svd(A, full_matrices=False)\n",
    "print(U)"
   ]
  },
  {
   "cell_type": "code",
   "execution_count": 2,
   "metadata": {},
   "outputs": [
    {
     "name": "stdout",
     "output_type": "stream",
     "text": [
      "[8.16552039 2.30743942]\n"
     ]
    }
   ],
   "source": [
    "print(S)"
   ]
  },
  {
   "cell_type": "code",
   "execution_count": 3,
   "metadata": {},
   "outputs": [
    {
     "name": "stdout",
     "output_type": "stream",
     "text": [
      "[[-0.81424526 -0.58052102]\n",
      " [ 0.58052102 -0.81424526]]\n"
     ]
    }
   ],
   "source": [
    "print(Vt)"
   ]
  },
  {
   "cell_type": "code",
   "execution_count": 8,
   "metadata": {},
   "outputs": [
    {
     "name": "stdout",
     "output_type": "stream",
     "text": [
      "[0.243 0.97 ]\n",
      "[0.2430062  0.97002474]\n"
     ]
    }
   ],
   "source": [
    "x = np.array([0.243,0.97])\n",
    "print(x) # Original\n",
    "x = x / la.norm(x)\n",
    "print(x) # Should now be a unit vector... ||x|| = 1"
   ]
  },
  {
   "cell_type": "code",
   "execution_count": 9,
   "metadata": {},
   "outputs": [
    {
     "name": "stdout",
     "output_type": "stream",
     "text": [
      "[-0.7609864  -0.64876784]\n"
     ]
    }
   ],
   "source": [
    "xi = Vt.dot(x)\n",
    "print(xi)"
   ]
  },
  {
   "cell_type": "code",
   "execution_count": 10,
   "metadata": {},
   "outputs": [
    {
     "name": "stdout",
     "output_type": "stream",
     "text": [
      "1.0\n"
     ]
    }
   ],
   "source": [
    "print(la.norm(xi)) # Norm hasnt changed"
   ]
  },
  {
   "cell_type": "code",
   "execution_count": 12,
   "metadata": {},
   "outputs": [
    {
     "name": "stdout",
     "output_type": "stream",
     "text": [
      "[-6.21384993 -1.49699248]\n"
     ]
    }
   ],
   "source": [
    "newS = la.diagsvd(S,2,2)\n",
    "eta = newS.dot(xi)\n",
    "print(eta)"
   ]
  },
  {
   "cell_type": "code",
   "execution_count": 13,
   "metadata": {},
   "outputs": [
    {
     "name": "stdout",
     "output_type": "stream",
     "text": [
      "6.391628704703712\n"
     ]
    }
   ],
   "source": [
    "print(la.norm(eta)) # The stretch along the axis does change the norm of the vector"
   ]
  },
  {
   "cell_type": "code",
   "execution_count": 14,
   "metadata": {},
   "outputs": [
    {
     "name": "stdout",
     "output_type": "stream",
     "text": [
      "[ 3.88209899  2.42606187 -3.1530804  -3.15508046]\n"
     ]
    }
   ],
   "source": [
    "y = U.dot(eta)\n",
    "print(y) # Equal to Ax"
   ]
  },
  {
   "cell_type": "code",
   "execution_count": 15,
   "metadata": {},
   "outputs": [
    {
     "name": "stdout",
     "output_type": "stream",
     "text": [
      "[ 3.88209899  2.42606187 -3.1530804  -3.15508046]\n"
     ]
    }
   ],
   "source": [
    "print(A.dot(x)) # Equal to y"
   ]
  },
  {
   "cell_type": "code",
   "execution_count": null,
   "metadata": {},
   "outputs": [],
   "source": []
  }
 ],
 "metadata": {
  "kernelspec": {
   "display_name": "Python 3",
   "language": "python",
   "name": "python3"
  },
  "language_info": {
   "codemirror_mode": {
    "name": "ipython",
    "version": 3
   },
   "file_extension": ".py",
   "mimetype": "text/x-python",
   "name": "python",
   "nbconvert_exporter": "python",
   "pygments_lexer": "ipython3",
   "version": "3.7.6"
  }
 },
 "nbformat": 4,
 "nbformat_minor": 4
}
